{
 "cells": [
  {
   "cell_type": "markdown",
   "metadata": {},
   "source": [
    "# What is Regular Expression?\n",
    "\n",
    "In computing, a regular expression, also referred to as \"regex\" or \"regexp\", provides a concise and flexible means for matching strings of text, such as particular characters, words, or patterns of characters. A regular expression is written in a formal language that can be interpreted by a regular expression processor.\n",
    "\n",
    "# When use Regular Expression?\n",
    "\n",
    "Any time you have some kind of a complex string matching or extraction, it is a good time to use regular expression.\n",
    "\n",
    "# Understanding Regular Expressions\n",
    "- Very powerful and quite cryptic\n",
    "- Fun once you understand them\n",
    "- Regular expressions are a language unto themselves\n",
    "- A language of \"marker characters\" - programming with characters\n",
    "- It is kind of an \"old school\" language - compact\n",
    "\n",
    "# The Regular Expression Module\n",
    "\n",
    "- Before you can use regular expressions in your program, you must import the library using \"**mport re**\"\n",
    "- You can use **re.search()** to see if a string matches a regular expression, similar to using the **find()** method for strings\n",
    "- You can use **re.findall()** extract portions of a string that match your regular expression similar to a combination of **find()** and slicing: **var[5:10]**\n",
    "\n",
    "\n",
    "# Regular Expression Quick Guide\n",
    "![regexp_quick_guide](regexp_quick_guide.png)"
   ]
  },
  {
   "cell_type": "markdown",
   "metadata": {},
   "source": [
    "## Exam1: Using re.search() like find() and startswith()"
   ]
  },
  {
   "cell_type": "code",
   "execution_count": null,
   "metadata": {
    "collapsed": true
   },
   "outputs": [],
   "source": [
    "hand = open('mbox-short.txt')\n",
    "for line in hand:\n",
    "    line = line.rstrip()\n",
    "    if line.find('From: ') >= 0:\n",
    "        print(line)"
   ]
  },
  {
   "cell_type": "code",
   "execution_count": null,
   "metadata": {
    "collapsed": true
   },
   "outputs": [],
   "source": [
    "import re\n",
    "\n",
    "hand = open('mbox-short.txt')\n",
    "for line in hand:\n",
    "    line = line.rstrip()\n",
    "    if re.search('From: ', line):\n",
    "        print(line)"
   ]
  },
  {
   "cell_type": "code",
   "execution_count": null,
   "metadata": {
    "collapsed": true
   },
   "outputs": [],
   "source": [
    "hand = open('mbox-short.txt')\n",
    "for line in hand:\n",
    "    line = line.rstrip()\n",
    "    if line.startswith('From: '):\n",
    "        print(line)"
   ]
  },
  {
   "cell_type": "code",
   "execution_count": null,
   "metadata": {
    "collapsed": true
   },
   "outputs": [],
   "source": [
    "import re\n",
    "\n",
    "hand = open('mbox-short.txt')\n",
    "for line in hand:\n",
    "    line = line.rstrip()\n",
    "    if re.search('^From: ', line):\n",
    "        print(line)"
   ]
  },
  {
   "cell_type": "markdown",
   "metadata": {},
   "source": [
    "## Wild-Card Characters\n",
    "\n",
    "- The dot character matches any character\n",
    "- if you add the asterisk character, the character is \"any number of times\"(zero or more times)"
   ]
  },
  {
   "cell_type": "code",
   "execution_count": 21,
   "metadata": {
    "collapsed": false
   },
   "outputs": [
    {
     "name": "stdout",
     "output_type": "stream",
     "text": [
      "<_sre.SRE_Match object; span=(0, 8), match='X-Sieve:'>\n",
      "<_sre.SRE_Match object; span=(0, 15), match='X-DSPAM-Result:'>\n",
      "<_sre.SRE_Match object; span=(0, 27), match='X-Plane is behind schedule:'>\n",
      "----------------------------------------------------------------------------------------------------\n",
      "<_sre.SRE_Match object; span=(0, 8), match='X-Sieve:'>\n",
      "<_sre.SRE_Match object; span=(0, 15), match='X-DSPAM-Result:'>\n",
      "None\n"
     ]
    }
   ],
   "source": [
    "import re\n",
    "str1 = 'X-Sieve: CMU Sieve 2.3'\n",
    "str2 = 'X-DSPAM-Result: Innocent'\n",
    "str3 = 'X-Plane is behind schedule: two weeks'\n",
    "print(re.search('^X-.*:', str1))\n",
    "print(re.search('^X-.*:', str2))\n",
    "print(re.search('^X-.*:', str3))\n",
    "print(100 * '-')\n",
    "print(re.search('^X-\\S+:', str1))\n",
    "print(re.search('^X-\\S+:', str2))\n",
    "print(re.search('^X-\\S+:', str3))"
   ]
  },
  {
   "cell_type": "markdown",
   "metadata": {},
   "source": [
    "## Matching and Extracting Data\n",
    "\n",
    "- The **re.search()** returns a True/False depending on whether the string matches the regular expression\n",
    "- If we actually want the matching strings to be extracted, we use **re.findall()**\n",
    "- When we use **re.findall()**, it returns a list of zero or more sub-strings that match the regular expression"
   ]
  },
  {
   "cell_type": "code",
   "execution_count": 44,
   "metadata": {
    "collapsed": false
   },
   "outputs": [
    {
     "name": "stdout",
     "output_type": "stream",
     "text": [
      "['2', '19', '42']\n",
      "[]\n",
      "['2']\n"
     ]
    }
   ],
   "source": [
    "import re\n",
    "str1 = 'My 2 favorite numbers are 19 and 42'\n",
    "result1 = re.findall('[0-9]+', str1)\n",
    "print(result1)\n",
    "result2 = re.findall('[AEIOU]+', str1)\n",
    "print(result2)\n",
    "result3 = re.findall('^My ([0-9]+)', str1)\n",
    "print(result3)"
   ]
  },
  {
   "cell_type": "markdown",
   "metadata": {},
   "source": [
    "## Greedy Matching and NonGreedy Matching\n",
    "\n",
    "- The repeat characters(* and +) push outward in both directions(greedy) to match the largest possible string"
   ]
  },
  {
   "cell_type": "code",
   "execution_count": 33,
   "metadata": {
    "collapsed": false
   },
   "outputs": [
    {
     "name": "stdout",
     "output_type": "stream",
     "text": [
      "the greedy match is: ['From: Using the :']\n",
      "the nongreedy match is: ['From:']\n"
     ]
    }
   ],
   "source": [
    "import re\n",
    "str = 'From: Using the : character'\n",
    "result1 = re.findall('^F.+:', str)\n",
    "result2 = re.findall('^F.+?:', str)\n",
    "print('the greedy match is:', result1)\n",
    "print('the nongreedy match is:', result2)"
   ]
  },
  {
   "cell_type": "markdown",
   "metadata": {},
   "source": [
    "## The Use of Parentheses\n",
    "\n",
    "- You can refine the match for **re.findall()** and separately determine which portion of the match is to be extracted **by using parentheses**\n",
    "- **Parenteses** are not part of the match, but they tell where to start and stop what string to extract"
   ]
  },
  {
   "cell_type": "code",
   "execution_count": 37,
   "metadata": {
    "collapsed": false
   },
   "outputs": [
    {
     "name": "stdout",
     "output_type": "stream",
     "text": [
      "['stephen.marquard@uct.ac.za']\n"
     ]
    }
   ],
   "source": [
    "import re\n",
    "str = 'From stephen.marquard@uct.ac.za Sat Jan 5 09:14:16 2008'\n",
    "result1 = re.findall('\\S+@\\S+', str)\n",
    "print(result1)"
   ]
  },
  {
   "cell_type": "markdown",
   "metadata": {},
   "source": [
    "#### Extracting a host name - using find and string slicing"
   ]
  },
  {
   "cell_type": "code",
   "execution_count": 38,
   "metadata": {
    "collapsed": false
   },
   "outputs": [
    {
     "name": "stdout",
     "output_type": "stream",
     "text": [
      "21\n",
      "31\n",
      "uct.ac.za\n"
     ]
    }
   ],
   "source": [
    "str = 'From stephen.marquard@uct.ac.za Sat Jan 5 09:14:16 2008'\n",
    "atpos = str.find('@')\n",
    "print(atpos)\n",
    "sppos = str.find(' ', atpos)\n",
    "print(sppos)\n",
    "host = str[atpos+1:sppos]\n",
    "print(host)"
   ]
  },
  {
   "cell_type": "markdown",
   "metadata": {},
   "source": [
    "#### Extracting a host name - using regular expressions"
   ]
  },
  {
   "cell_type": "code",
   "execution_count": 41,
   "metadata": {
    "collapsed": false
   },
   "outputs": [
    {
     "name": "stdout",
     "output_type": "stream",
     "text": [
      "['uct.ac.za']\n"
     ]
    }
   ],
   "source": [
    "import re\n",
    "str = 'From stephen.marquard@uct.ac.za Sat Jan 5 09:14:16 2008'\n",
    "result = re.findall('^From .*@([^ ]*)', str)\n",
    "print(result)"
   ]
  },
  {
   "cell_type": "markdown",
   "metadata": {},
   "source": [
    "## Escape Character\n",
    "\n",
    "- if you want a special regular expression character to just behave normally (most of the time) you prefix it with '\\'"
   ]
  },
  {
   "cell_type": "code",
   "execution_count": 46,
   "metadata": {
    "collapsed": false
   },
   "outputs": [
    {
     "name": "stdout",
     "output_type": "stream",
     "text": [
      "['$10.00']\n"
     ]
    }
   ],
   "source": [
    "import re\n",
    "str = 'We just received $10.00 for cookies.'\n",
    "result = re.findall('\\$[0-9.]+', str)\n",
    "print(result)"
   ]
  },
  {
   "cell_type": "code",
   "execution_count": null,
   "metadata": {
    "collapsed": true
   },
   "outputs": [],
   "source": []
  }
 ],
 "metadata": {
  "kernelspec": {
   "display_name": "Python [conda root]",
   "language": "python",
   "name": "conda-root-py"
  },
  "language_info": {
   "codemirror_mode": {
    "name": "ipython",
    "version": 3
   },
   "file_extension": ".py",
   "mimetype": "text/x-python",
   "name": "python",
   "nbconvert_exporter": "python",
   "pygments_lexer": "ipython3",
   "version": "3.5.2"
  }
 },
 "nbformat": 4,
 "nbformat_minor": 1
}
